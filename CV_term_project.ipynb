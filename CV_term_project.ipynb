{
  "nbformat": 4,
  "nbformat_minor": 0,
  "metadata": {
    "colab": {
      "name": "CV_텀프로젝트.ipynb",
      "provenance": [],
      "collapsed_sections": [],
      "authorship_tag": "ABX9TyPmjsa6jMyzMoyX3J2V25il",
      "include_colab_link": true
    },
    "kernelspec": {
      "name": "python3",
      "display_name": "Python 3"
    },
    "language_info": {
      "name": "python"
    },
    "accelerator": "GPU"
  },
  "cells": [
    {
      "cell_type": "markdown",
      "metadata": {
        "id": "view-in-github",
        "colab_type": "text"
      },
      "source": [
        "<a href=\"https://colab.research.google.com/github/jhjoGit/Jetbot/blob/gh-pages/CV_term_project.ipynb\" target=\"_parent\"><img src=\"https://colab.research.google.com/assets/colab-badge.svg\" alt=\"Open In Colab\"/></a>"
      ]
    },
    {
      "cell_type": "markdown",
      "metadata": {
        "id": "mmfPv3pvSyzW"
      },
      "source": [
        "구글 드라이브 연동 및 경로 설정\n"
      ]
    },
    {
      "cell_type": "code",
      "metadata": {
        "id": "2Xgv13b9SylY",
        "colab": {
          "base_uri": "https://localhost:8080/"
        },
        "outputId": "33524c30-13bf-4102-f055-eb052963480c"
      },
      "source": [
        "from google.colab import drive\n",
        "drive.mount('/gdrive')\n",
        "\n",
        "import os\n",
        "workspace_path = '/gdrive/My Drive/Colab Notebooks/CV/CV_텀프로젝트'  # 저장 경로\n",
        "dataset_path = os.path.join(workspace_path, 'dataset')\n",
        "dataset_path = os.path.join(dataset_path, 'test/images')\n"
      ],
      "execution_count": null,
      "outputs": [
        {
          "output_type": "stream",
          "text": [
            "Mounted at /gdrive\n"
          ],
          "name": "stdout"
        }
      ]
    },
    {
      "cell_type": "markdown",
      "metadata": {
        "id": "2K7huCbCjlyY"
      },
      "source": [
        "yolov5 다운로드"
      ]
    },
    {
      "cell_type": "code",
      "metadata": {
        "colab": {
          "base_uri": "https://localhost:8080/"
        },
        "id": "Y-P82OinjqIs",
        "outputId": "c6425b2a-45e4-40ea-f700-56d310ca9e98"
      },
      "source": [
        "!git clone https://github.com/ultralytics/yolov5.git"
      ],
      "execution_count": null,
      "outputs": [
        {
          "output_type": "stream",
          "text": [
            "Cloning into 'yolov5'...\n",
            "remote: Enumerating objects: 6290, done.\u001b[K\n",
            "remote: Counting objects: 100% (85/85), done.\u001b[K\n",
            "remote: Compressing objects: 100% (61/61), done.\u001b[K\n",
            "remote: Total 6290 (delta 40), reused 59 (delta 24), pack-reused 6205\u001b[K\n",
            "Receiving objects: 100% (6290/6290), 8.54 MiB | 16.50 MiB/s, done.\n",
            "Resolving deltas: 100% (4294/4294), done.\n"
          ],
          "name": "stdout"
        }
      ]
    },
    {
      "cell_type": "markdown",
      "metadata": {
        "id": "hzj_QNzGj4vf"
      },
      "source": [
        "패키지 설치"
      ]
    },
    {
      "cell_type": "code",
      "metadata": {
        "id": "9VbmMLYQj6Ty"
      },
      "source": [
        "%cd /content/yolov5/\n",
        "!pip install -r requirements.txt"
      ],
      "execution_count": null,
      "outputs": []
    },
    {
      "cell_type": "markdown",
      "metadata": {
        "id": "1ZLXQrtl0z3N"
      },
      "source": [
        "train set, valid set 불러오기"
      ]
    },
    {
      "cell_type": "code",
      "metadata": {
        "colab": {
          "base_uri": "https://localhost:8080/"
        },
        "id": "i-wX0DP7zqJY",
        "outputId": "0ea87ebc-355c-4772-8bcb-19b7c9ee42cc"
      },
      "source": [
        "from glob import glob\n",
        "\n",
        "train_img_list = glob('/gdrive/MyDrive/Colab Notebooks/CV/CV_텀프로젝트/dataset/train/images/*.jpg')\n",
        "val_img_list = glob('/gdrive/MyDrive/Colab Notebooks/CV/CV_텀프로젝트/dataset/valid/images/*.jpg')\n",
        "print(len(train_img_list), len(val_img_list))"
      ],
      "execution_count": null,
      "outputs": [
        {
          "output_type": "stream",
          "text": [
            "105 29\n"
          ],
          "name": "stdout"
        }
      ]
    },
    {
      "cell_type": "code",
      "metadata": {
        "id": "GT919LJx0DnF"
      },
      "source": [
        "with open('/gdrive/MyDrive/Colab Notebooks/CV/CV_텀프로젝트/dataset/train.txt', 'w') as f:\n",
        "    f.write('\\n'.join(train_img_list) + '\\n')\n",
        "with open('/gdrive/MyDrive/Colab Notebooks/CV/CV_텀프로젝트/dataset/val.txt', 'w') as f:\n",
        "    f.write('\\n'.join(val_img_list) + '\\n')"
      ],
      "execution_count": null,
      "outputs": []
    },
    {
      "cell_type": "code",
      "metadata": {
        "id": "I1ktCB180o7n"
      },
      "source": [
        "import yaml\n",
        "\n",
        "with open('/gdrive/MyDrive/Colab Notebooks/CV/CV_텀프로젝트/dataset/data.yaml', 'r') as f:\n",
        "    data = yaml.load(f)\n",
        "print(data)\n",
        "\n",
        "data['train'] = '/gdrive/MyDrive/Colab Notebooks/CV/CV_텀프로젝트/dataset/train.txt'\n",
        "data['val'] = '/gdrive/MyDrive/Colab Notebooks/CV/CV_텀프로젝트/dataset/val.txt'\n",
        "\n",
        "with open('/gdrive/MyDrive/Colab Notebooks/CV/CV_텀프로젝트/dataset/data.yaml', 'w') as f:\n",
        "    yaml.dump(data, f)\n",
        "\n",
        "print(data)"
      ],
      "execution_count": null,
      "outputs": []
    },
    {
      "cell_type": "markdown",
      "metadata": {
        "id": "gRjXlFUV3bOM"
      },
      "source": [
        "학습\n",
        "python train.py --img 640 --batch 16 --epochs 5 --data coco128.yaml --weights yolov5s.pt"
      ]
    },
    {
      "cell_type": "code",
      "metadata": {
        "id": "Z1Gk4VUJ3ci1"
      },
      "source": [
        "%cd /content/yolov5/\n",
        "\n",
        "!python train.py --img 416 --batch 16 --epochs 100 --data '/gdrive/MyDrive/Colab Notebooks/CV/CV_텀프로젝트/dataset/data.yaml' --cfg /content/yolov5/models/yolov5s.yaml --weights yolov5s.pt --name mask_yolov5s_results"
      ],
      "execution_count": null,
      "outputs": []
    },
    {
      "cell_type": "code",
      "metadata": {
        "id": "jVK-asII-aqb"
      },
      "source": [
        "from IPython.display import Image\n",
        "\n",
        "val_img_path = val_img_list[0]\n",
        "\n",
        "!python detect.py --weights /content/yolov5/runs/train/mask_yolov5s_results/weights/best.pt --img 416 --conf 0.5 --source \"{val_img_path}\"\n",
        "display(Image(os.path.join('/content/yolov5/runs/detect/exp', os.path.basename(val_img_path))))\n",
        "display(Image(val_img_path))"
      ],
      "execution_count": null,
      "outputs": []
    }
  ]
}